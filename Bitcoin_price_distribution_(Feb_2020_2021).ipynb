{
  "nbformat": 4,
  "nbformat_minor": 0,
  "metadata": {
    "colab": {
      "name": "Bitcoin price distribution (Feb 2020-2021).ipynb",
      "provenance": []
    },
    "kernelspec": {
      "name": "python3",
      "display_name": "Python 3"
    }
  },
  "cells": [
    {
      "cell_type": "code",
      "metadata": {
        "id": "zdReRElb0zWz"
      },
      "source": [
        "import pandas as pd\r\n",
        "import pandas_datareader.data as web\r\n",
        "df = pd.read_csv(\"https://query1.finance.yahoo.com/v7/finance/download/BTC-USD?period1=1581755787&period2=1613378187&interval=1d&events=history&includeAdjustedClose=true\")"
      ],
      "execution_count": 5,
      "outputs": []
    },
    {
      "cell_type": "code",
      "metadata": {
        "colab": {
          "base_uri": "https://localhost:8080/",
          "height": 419
        },
        "id": "GYR6l4Jp16PN",
        "outputId": "ca502f45-9684-492f-cfe8-cb9e7bf255c5"
      },
      "source": [
        "df"
      ],
      "execution_count": 4,
      "outputs": [
        {
          "output_type": "execute_result",
          "data": {
            "text/html": [
              "<div>\n",
              "<style scoped>\n",
              "    .dataframe tbody tr th:only-of-type {\n",
              "        vertical-align: middle;\n",
              "    }\n",
              "\n",
              "    .dataframe tbody tr th {\n",
              "        vertical-align: top;\n",
              "    }\n",
              "\n",
              "    .dataframe thead th {\n",
              "        text-align: right;\n",
              "    }\n",
              "</style>\n",
              "<table border=\"1\" class=\"dataframe\">\n",
              "  <thead>\n",
              "    <tr style=\"text-align: right;\">\n",
              "      <th></th>\n",
              "      <th>Date</th>\n",
              "      <th>Open</th>\n",
              "      <th>High</th>\n",
              "      <th>Low</th>\n",
              "      <th>Close</th>\n",
              "      <th>Adj Close</th>\n",
              "      <th>Volume</th>\n",
              "    </tr>\n",
              "  </thead>\n",
              "  <tbody>\n",
              "    <tr>\n",
              "      <th>0</th>\n",
              "      <td>2020-02-15</td>\n",
              "      <td>10313.856445</td>\n",
              "      <td>10341.555664</td>\n",
              "      <td>9874.427734</td>\n",
              "      <td>9889.424805</td>\n",
              "      <td>9889.424805</td>\n",
              "      <td>4.386505e+10</td>\n",
              "    </tr>\n",
              "    <tr>\n",
              "      <th>1</th>\n",
              "      <td>2020-02-16</td>\n",
              "      <td>9889.179688</td>\n",
              "      <td>10053.968750</td>\n",
              "      <td>9722.386719</td>\n",
              "      <td>9934.433594</td>\n",
              "      <td>9934.433594</td>\n",
              "      <td>4.337478e+10</td>\n",
              "    </tr>\n",
              "    <tr>\n",
              "      <th>2</th>\n",
              "      <td>2020-02-17</td>\n",
              "      <td>9936.560547</td>\n",
              "      <td>9938.815430</td>\n",
              "      <td>9507.637695</td>\n",
              "      <td>9690.142578</td>\n",
              "      <td>9690.142578</td>\n",
              "      <td>4.599830e+10</td>\n",
              "    </tr>\n",
              "    <tr>\n",
              "      <th>3</th>\n",
              "      <td>2020-02-18</td>\n",
              "      <td>9691.230469</td>\n",
              "      <td>10161.935547</td>\n",
              "      <td>9632.382813</td>\n",
              "      <td>10141.996094</td>\n",
              "      <td>10141.996094</td>\n",
              "      <td>4.727102e+10</td>\n",
              "    </tr>\n",
              "    <tr>\n",
              "      <th>4</th>\n",
              "      <td>2020-02-19</td>\n",
              "      <td>10143.798828</td>\n",
              "      <td>10191.675781</td>\n",
              "      <td>9611.223633</td>\n",
              "      <td>9633.386719</td>\n",
              "      <td>9633.386719</td>\n",
              "      <td>4.699202e+10</td>\n",
              "    </tr>\n",
              "    <tr>\n",
              "      <th>...</th>\n",
              "      <td>...</td>\n",
              "      <td>...</td>\n",
              "      <td>...</td>\n",
              "      <td>...</td>\n",
              "      <td>...</td>\n",
              "      <td>...</td>\n",
              "      <td>...</td>\n",
              "    </tr>\n",
              "    <tr>\n",
              "      <th>362</th>\n",
              "      <td>2021-02-11</td>\n",
              "      <td>44898.710938</td>\n",
              "      <td>48463.468750</td>\n",
              "      <td>44187.761719</td>\n",
              "      <td>47909.332031</td>\n",
              "      <td>47909.332031</td>\n",
              "      <td>8.138891e+10</td>\n",
              "    </tr>\n",
              "    <tr>\n",
              "      <th>363</th>\n",
              "      <td>2021-02-12</td>\n",
              "      <td>47877.035156</td>\n",
              "      <td>48745.734375</td>\n",
              "      <td>46424.976563</td>\n",
              "      <td>47504.851563</td>\n",
              "      <td>47504.851563</td>\n",
              "      <td>7.655504e+10</td>\n",
              "    </tr>\n",
              "    <tr>\n",
              "      <th>364</th>\n",
              "      <td>2021-02-13</td>\n",
              "      <td>47491.203125</td>\n",
              "      <td>48047.746094</td>\n",
              "      <td>46392.281250</td>\n",
              "      <td>47105.515625</td>\n",
              "      <td>47105.515625</td>\n",
              "      <td>7.025046e+10</td>\n",
              "    </tr>\n",
              "    <tr>\n",
              "      <th>365</th>\n",
              "      <td>2021-02-14</td>\n",
              "      <td>47114.507813</td>\n",
              "      <td>49487.640625</td>\n",
              "      <td>47114.507813</td>\n",
              "      <td>48717.289063</td>\n",
              "      <td>48717.289063</td>\n",
              "      <td>7.124868e+10</td>\n",
              "    </tr>\n",
              "    <tr>\n",
              "      <th>366</th>\n",
              "      <td>2021-02-15</td>\n",
              "      <td>47226.578125</td>\n",
              "      <td>48875.570313</td>\n",
              "      <td>46347.476563</td>\n",
              "      <td>47501.730469</td>\n",
              "      <td>47501.730469</td>\n",
              "      <td>8.009073e+10</td>\n",
              "    </tr>\n",
              "  </tbody>\n",
              "</table>\n",
              "<p>367 rows × 7 columns</p>\n",
              "</div>"
            ],
            "text/plain": [
              "           Date          Open  ...     Adj Close        Volume\n",
              "0    2020-02-15  10313.856445  ...   9889.424805  4.386505e+10\n",
              "1    2020-02-16   9889.179688  ...   9934.433594  4.337478e+10\n",
              "2    2020-02-17   9936.560547  ...   9690.142578  4.599830e+10\n",
              "3    2020-02-18   9691.230469  ...  10141.996094  4.727102e+10\n",
              "4    2020-02-19  10143.798828  ...   9633.386719  4.699202e+10\n",
              "..          ...           ...  ...           ...           ...\n",
              "362  2021-02-11  44898.710938  ...  47909.332031  8.138891e+10\n",
              "363  2021-02-12  47877.035156  ...  47504.851563  7.655504e+10\n",
              "364  2021-02-13  47491.203125  ...  47105.515625  7.025046e+10\n",
              "365  2021-02-14  47114.507813  ...  48717.289063  7.124868e+10\n",
              "366  2021-02-15  47226.578125  ...  47501.730469  8.009073e+10\n",
              "\n",
              "[367 rows x 7 columns]"
            ]
          },
          "metadata": {
            "tags": []
          },
          "execution_count": 4
        }
      ]
    },
    {
      "cell_type": "markdown",
      "metadata": {
        "id": "SF1bOunX4_Eb"
      },
      "source": [
        "Price Distribution"
      ]
    },
    {
      "cell_type": "code",
      "metadata": {
        "colab": {
          "base_uri": "https://localhost:8080/",
          "height": 282
        },
        "id": "UqG8Lsiq17l9",
        "outputId": "963f9457-fdb6-4d9b-c277-9ed991ed4575"
      },
      "source": [
        "df[\"Adj Close\"].plot(kind=\"hist\", bins=list(range(9000,60000,3000)), rwidth=0.9, color=\"green\", histtype=\"stepfilled\")"
      ],
      "execution_count": 22,
      "outputs": [
        {
          "output_type": "execute_result",
          "data": {
            "text/plain": [
              "<matplotlib.axes._subplots.AxesSubplot at 0x7ff1f12ae208>"
            ]
          },
          "metadata": {
            "tags": []
          },
          "execution_count": 22
        },
        {
          "output_type": "display_data",
          "data": {
            "image/png": "[encoded data removed]",
            "text/plain": [
              "<Figure size 432x288 with 1 Axes>"
            ]
          },
          "metadata": {
            "tags": [],
            "needs_background": "light"
          }
        }
      ]
    },
    {
      "cell_type": "markdown",
      "metadata": {
        "id": "BZrded4_43Gk"
      },
      "source": [
        "Volume Distribution"
      ]
    },
    {
      "cell_type": "code",
      "metadata": {
        "colab": {
          "base_uri": "https://localhost:8080/",
          "height": 295
        },
        "id": "ZIUlm7_a33Ty",
        "outputId": "35aeeadd-9c74-432d-8188-9be4c69cf3a3"
      },
      "source": [
        "df[\"Volume\"].plot(kind=\"hist\", color=\"red\", rwidth=0.8, histtype=\"stepfilled\")"
      ],
      "execution_count": 23,
      "outputs": [
        {
          "output_type": "execute_result",
          "data": {
            "text/plain": [
              "<matplotlib.axes._subplots.AxesSubplot at 0x7ff1f1289390>"
            ]
          },
          "metadata": {
            "tags": []
          },
          "execution_count": 23
        },
        {
          "output_type": "display_data",
          "data": {
            "image/png": "[encoded data removed]",
            "text/plain": [
              "<Figure size 432x288 with 1 Axes>"
            ]
          },
          "metadata": {
            "tags": [],
            "needs_background": "light"
          }
        }
      ]
    },
    {
      "cell_type": "code",
      "metadata": {
        "id": "G2y0W6lD4Q8E"
      },
      "source": [
        ""
      ],
      "execution_count": null,
      "outputs": []
    }
  ]
}